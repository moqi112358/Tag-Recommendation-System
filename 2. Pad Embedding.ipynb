{
  "cells": [
    {
      "metadata": {
        "_uuid": "8f2839f25d086af736a60e9eeb907d3b93b6e0e5",
        "_cell_guid": "b1076dfc-b9ad-4769-8c92-a6c4dae69d19",
        "trusted": true
      },
      "cell_type": "code",
      "source": "# This Python 3 environment comes with many helpful analytics libraries installed\n# It is defined by the kaggle/python docker image: https://github.com/kaggle/docker-python\n# For example, here's several helpful packages to load in \n\nimport numpy as np # linear algebra\nimport pandas as pd # data processing, CSV file I/O (e.g. pd.read_csv)\n\n# Input data files are available in the \"../input/\" directory.\n# For example, running this (by clicking run or pressing Shift+Enter) will list the files in the input directory\n\nimport os\nprint(os.listdir(\"../input\"))\n\n# Any results you write to the current directory are saved as output.",
      "execution_count": null,
      "outputs": []
    },
    {
      "metadata": {
        "_cell_guid": "79c7e3d0-c299-4dcb-8224-4455121ee9b0",
        "_uuid": "d629ff2d2480ee46fbb7e2d37f6b5fab8052498a",
        "trusted": true
      },
      "cell_type": "code",
      "source": "import gensim \nimport logging\nimport pickle\nlogging.basicConfig(format='%(asctime)s : %(levelname)s : %(message)s',level=logging.INFO)\n\nimport multiprocessing\nfrom gensim.models import Word2Vec\nfrom gensim.models.word2vec import LineSentence\nimport random\n\noutput = open(\"../input/tag-recommendation-system-list/train_list.pickle\", \"rb\")\nid_list, title_list, article_list = pickle.load(output)\noutput.close()",
      "execution_count": null,
      "outputs": []
    },
    {
      "metadata": {
        "trusted": true,
        "_uuid": "29ec16f837e6660e325ffab1162ea6f632fe3101"
      },
      "cell_type": "code",
      "source": "f = open('../input/tag-recommendation-system-list/title_vocab.pickle','rb')\ntitle_vocab = pickle.load(f)\nf.close()\n\nf = open('../input/tag-recommendation-system-list/article_vocab.pickle','rb')\narticle_vocab = pickle.load(f)\nf.close()",
      "execution_count": null,
      "outputs": []
    },
    {
      "metadata": {
        "trusted": true,
        "_uuid": "d59fd5e747e58b82598aa482ea61fb9063bfd080"
      },
      "cell_type": "code",
      "source": "class Alphabet(dict):\n    def __init__(self, start_id=1):\n        self.fid = start_id\n    def add(self, item):\n        idx = self.get(item, None)\n        if idx is None:\n            idx = self.fid\n            self[item] = idx\n            self.fid += 1\n        return idx\n    def dump(self, fname):\n        with open(fname, 'w') as out:\n            for k in sorted(self.keys()):\n                out.write(\"{}\\t{}\\n\".format(k, self[k]))",
      "execution_count": null,
      "outputs": []
    },
    {
      "metadata": {
        "trusted": true,
        "_uuid": "9411df290520c51a9fc5e81b2d6be9adbbef97d9"
      },
      "cell_type": "code",
      "source": "def parse_embed(embed_dict):\n    alphabet, embed_mat = Alphabet(), []\n    vocab_size, embed_dim = len(embed_dict), len(embed_dict[list(embed_dict.keys())[0]])\n    unknown_word_idx = 0\n    embed_mat.append(np.random.uniform(-0.25, 0.25, embed_dim))\n    for word in embed_dict:\n        alphabet.add(word)\n        embed_mat.append(embed_dict[word])\n    dummy_word_idx = alphabet.fid\n    embed_mat.append(np.zeros(embed_dim))\n    return alphabet, embed_mat, unknown_word_idx, dummy_word_idx",
      "execution_count": null,
      "outputs": []
    },
    {
      "metadata": {
        "trusted": true,
        "_uuid": "9dae770e551b3aae9bc7ab1992211d3ee2af66a9"
      },
      "cell_type": "code",
      "source": "# unkown title_embed_mat[unknown_title_idx]\n# pad title_embed_mat[dummy_title_idx]\n# normal title_embed_mat[title_alphabet[i]]\ntitle_alphabet, title_embed_mat, unknown_title_idx, dummy_title_idx = parse_embed(title_vocab)\narticle_alphabet, article_embed_mat, unknown_article_idx, dummy_article_idx = parse_embed(article_vocab)",
      "execution_count": null,
      "outputs": []
    },
    {
      "metadata": {
        "trusted": true,
        "_uuid": "1dec8da981ee05b5ab8ca17340c1100a9e9862f7"
      },
      "cell_type": "code",
      "source": "tmp = np.array([len(i) for i in article_list])\n# plt.hist(tmp)\ntmp = np.array([len(i) for i in title_list])\n# plt.hist(tmp)\nlen_aritle = 500 # mean 176.22896799025133\nlen_title = 15 # mean 8.178064471860113",
      "execution_count": null,
      "outputs": []
    },
    {
      "metadata": {
        "trusted": true,
        "_uuid": "377e450b31811a495f9d916c6395dfa9781191f1"
      },
      "cell_type": "code",
      "source": "def pad_list(alphabet, embed_mat, unknown_idx, dummy_idx, list_file, length):\n    result = []\n    for l in list_file:\n        if len(l) > length:\n            l = l[len(l) - length:]\n        else:\n            l = [0] * (length - len(l)) + l\n        tmp = []\n        for i in l:\n            if i == 0:\n                tmp.append(embed_mat[dummy_idx])\n            elif i not in alphabet:\n                tmp.append(embed_mat[unknown_idx])\n            elif i in alphabet:\n                tmp.append(embed_mat[alphabet[i]])\n        result.append(tmp)\n    return result",
      "execution_count": null,
      "outputs": []
    },
    {
      "metadata": {
        "trusted": true,
        "_uuid": "7f26f89f91de803e16b78a32a98b6b0e57185797"
      },
      "cell_type": "code",
      "source": "title_embedding_pad = pad_list(title_alphabet, title_embed_mat, unknown_title_idx, dummy_title_idx, title_list, len_title)",
      "execution_count": null,
      "outputs": []
    },
    {
      "metadata": {
        "trusted": true,
        "_uuid": "cb7d6d44007b2c8e09029498899cb8e1ad43de9d"
      },
      "cell_type": "code",
      "source": "del id_list, title_list,title_alphabet, title_embed_mat, unknown_title_idx, dummy_title_idx, len_title,title_vocab",
      "execution_count": null,
      "outputs": []
    },
    {
      "metadata": {
        "trusted": true,
        "_uuid": "4c743f1d36ffd4b03eaa308e27bd9313f7e693b1"
      },
      "cell_type": "code",
      "source": "article_embedding_pad = pad_list(article_alphabet, article_embed_mat, unknown_article_idx, dummy_article_idx, article_list, len_aritle)",
      "execution_count": null,
      "outputs": []
    },
    {
      "metadata": {
        "trusted": true,
        "_uuid": "20a3151ce484266f2323deac912f8e35935dc77f"
      },
      "cell_type": "code",
      "source": "del article_list, article_alphabet, article_embed_mat, unknown_article_idx, dummy_article_idx, len_aritle, article_vocab",
      "execution_count": null,
      "outputs": []
    },
    {
      "metadata": {
        "trusted": true,
        "_uuid": "5a3dede2a36e005743bdf6430bb05ba867179293"
      },
      "cell_type": "code",
      "source": "f = open('title_embedding_pad.pickle','wb')\npickle.dump(title_embedding_pad,f) \nf.close()\nf = open('article_embedding_pad.pickle','wb')\npickle.dump(article_embedding_pad,f) \nf.close()",
      "execution_count": null,
      "outputs": []
    },
    {
      "metadata": {
        "trusted": true,
        "_uuid": "c3f47fb187153143d758c8bc14a424ae0f3b298d"
      },
      "cell_type": "code",
      "source": "",
      "execution_count": null,
      "outputs": []
    }
  ],
  "metadata": {
    "kernelspec": {
      "display_name": "Python 3",
      "language": "python",
      "name": "python3"
    },
    "language_info": {
      "name": "python",
      "version": "3.6.6",
      "mimetype": "text/x-python",
      "codemirror_mode": {
        "name": "ipython",
        "version": 3
      },
      "pygments_lexer": "ipython3",
      "nbconvert_exporter": "python",
      "file_extension": ".py"
    }
  },
  "nbformat": 4,
  "nbformat_minor": 1
}