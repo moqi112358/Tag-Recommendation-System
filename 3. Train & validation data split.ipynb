{
  "cells": [
    {
      "metadata": {
        "_uuid": "8f2839f25d086af736a60e9eeb907d3b93b6e0e5",
        "_cell_guid": "b1076dfc-b9ad-4769-8c92-a6c4dae69d19",
        "trusted": true
      },
      "cell_type": "code",
      "source": "# This Python 3 environment comes with many helpful analytics libraries installed\n# It is defined by the kaggle/python docker image: https://github.com/kaggle/docker-python\n# For example, here's several helpful packages to load in \n\nimport numpy as np # linear algebra\nimport pandas as pd # data processing, CSV file I/O (e.g. pd.read_csv)\n\n# Input data files are available in the \"../input/\" directory.\n# For example, running this (by clicking run or pressing Shift+Enter) will list the files in the input directory\n\nimport os\nprint(os.listdir(\"../input\"))\n\n# Any results you write to the current directory are saved as output.",
      "execution_count": null,
      "outputs": []
    },
    {
      "metadata": {
        "_cell_guid": "79c7e3d0-c299-4dcb-8224-4455121ee9b0",
        "_uuid": "d629ff2d2480ee46fbb7e2d37f6b5fab8052498a",
        "trusted": true
      },
      "cell_type": "code",
      "source": "import pickle\nimport random\n# 5000 train - 3G\ndef train_val_split(file_dir):\n    # read data\n    f = open(file_dir + 'article_embedding_pad.pickle','rb')\n    article_embedding = pickle.load(f)\n    f.close()\n    f = open(file_dir + 'title_embedding_pad.pickle','rb')\n    title_embedding = pickle.load(f)\n    f.close()\n    f = open(file_dir + 'train_label_list.pickle','rb')\n    label_list = pickle.load(f)\n    f.close()\n    # split validation 5000 samples\n    article_id = [i for i in range(len(article_embedding))]\n    random.seed(0)\n    random.shuffle(article_id)\n    val_id = article_id[:5000]\n    train_id = article_id[5000:]\n    train_article_embedding_data = [article_embedding[i] for i in train_id]\n    train_title_embedding_data = [title_embedding[i] for i in train_id]\n    train_label_list_data = [label_list[i] for i in train_id]\n    val_article_embedding_data = [article_embedding[i] for i in val_id]\n    val_title_embedding_data = [title_embedding[i] for i in val_id]\n    val_label_list_data = [label_list[i] for i in val_id]\n    # create vocal label \n    tmp_label1 = train_label_list_data.copy()\n    tmp_label2 = val_label_list_data.copy()\n    tmp_label1.extend(tmp_label2)\n    tmp = {}\n    for word in tmp_label1:\n        for i in word:\n            tmp[i] = tmp.get(i,0) + 1\n    label_vocab = {}\n    index = 0\n    for key in tmp:\n        if tmp[key] > 10:\n            label_vocab[key] = index\n            index += 1\n    return train_article_embedding_data, train_title_embedding_data, train_label_list_data,\\\n           val_article_embedding_data, val_title_embedding_data, val_label_list_data, label_vocab",
      "execution_count": null,
      "outputs": []
    },
    {
      "metadata": {
        "trusted": true,
        "_uuid": "e949a0789c660e749becfae742e78f1d0699ad9d"
      },
      "cell_type": "code",
      "source": "def one_hot_label_embedding(label_list, label_vocab, start_id, end_id):\n    tmp = label_list[start_id:end_id+1]\n    tmp_embed = []\n    for i in tmp:\n        l = [0] * len(label_vocab)\n        for j in i:\n            l[label_vocab[j]] = 1\n        tmp_embed.append(l)\n    return tmp_embed",
      "execution_count": null,
      "outputs": []
    },
    {
      "metadata": {
        "trusted": true,
        "_uuid": "7972bdfb948109a3a9ab91b667cfb46fc40f3938"
      },
      "cell_type": "code",
      "source": "train_article_embedding_data, train_title_embedding_data, train_label_list_data,\\\nval_article_embedding_data, val_title_embedding_data, val_label_list_data, label_vocab = train_val_split('../input/')",
      "execution_count": null,
      "outputs": []
    },
    {
      "metadata": {
        "trusted": true,
        "_uuid": "441193c1a2ec0ae7334e51d7e5ea76a8a2df0c5a"
      },
      "cell_type": "code",
      "source": "f = open('train_article_embedding_data.pickle','wb')\npickle.dump(train_article_embedding_data, f)\nf.close()\nf = open('train_title_embedding_data.pickle','wb')\npickle.dump(train_title_embedding_data, f)\nf.close()\nf = open('train_label_list_data.pickle','wb')\npickle.dump(train_label_list_data, f)\nf.close()\nf = open('val_article_embedding_data.pickle','wb')\npickle.dump(val_article_embedding_data, f)\nf.close()\nf = open('val_title_embedding_data.pickle','wb')\npickle.dump(val_title_embedding_data, f)\nf.close()\nf = open('val_label_list_data.pickle','wb')\npickle.dump(val_label_list_data, f)\nf.close()\nf = open('label_vocab.pickle','wb')\npickle.dump(label_vocab, f)\nf.close()",
      "execution_count": null,
      "outputs": []
    },
    {
      "metadata": {
        "trusted": true,
        "_uuid": "c55fef92c3e6445d93fc7d0c5b30ec2c049eb54a"
      },
      "cell_type": "code",
      "source": "",
      "execution_count": null,
      "outputs": []
    }
  ],
  "metadata": {
    "kernelspec": {
      "display_name": "Python 3",
      "language": "python",
      "name": "python3"
    },
    "language_info": {
      "name": "python",
      "version": "3.6.6",
      "mimetype": "text/x-python",
      "codemirror_mode": {
        "name": "ipython",
        "version": 3
      },
      "pygments_lexer": "ipython3",
      "nbconvert_exporter": "python",
      "file_extension": ".py"
    }
  },
  "nbformat": 4,
  "nbformat_minor": 1
}