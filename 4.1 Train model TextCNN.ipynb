{
 "cells": [
  {
   "cell_type": "code",
   "execution_count": null,
   "metadata": {
    "_cell_guid": "b1076dfc-b9ad-4769-8c92-a6c4dae69d19",
    "_uuid": "8f2839f25d086af736a60e9eeb907d3b93b6e0e5"
   },
   "outputs": [],
   "source": [
    "# This Python 3 environment comes with many helpful analytics libraries installed\n",
    "# It is defined by the kaggle/python docker image: https://github.com/kaggle/docker-python\n",
    "# For example, here's several helpful packages to load in \n",
    "\n",
    "import numpy as np # linear algebra\n",
    "import pandas as pd # data processing, CSV file I/O (e.g. pd.read_csv)\n",
    "\n",
    "# Input data files are available in the \"../input/\" directory.\n",
    "# For example, running this (by clicking run or pressing Shift+Enter) will list the files in the input directory\n",
    "\n",
    "import os\n",
    "print(os.listdir(\"../input\"))\n",
    "\n",
    "import torch\n",
    "# Any results you write to the current directory are saved as output.\n",
    "torch.cuda.is_available()"
   ]
  },
  {
   "cell_type": "code",
   "execution_count": null,
   "metadata": {
    "_uuid": "874f6b9dbd499c23fc88dbf585ede9e21ec1f982"
   },
   "outputs": [],
   "source": [
    "import numpy as np # linear algebra\n",
    "import pandas as pd\n",
    "import os\n",
    "import torch.utils.data as data\n",
    "import torch\n",
    "import pickle\n",
    "from os import listdir\n",
    "from os.path import join\n",
    "import torch.nn.functional as F\n",
    "from torch import nn\n",
    "from torch.autograd import Variable\n",
    "import logging\n",
    "logging.basicConfig(format='%(asctime)s : %(levelname)s : %(message)s',level=logging.INFO)\n"
   ]
  },
  {
   "cell_type": "code",
   "execution_count": null,
   "metadata": {
    "_uuid": "36e54eeb25d7302dbc0a4c976b2402cb99cd5ddb"
   },
   "outputs": [],
   "source": [
    "base_epoch = 1\n",
    "start_article = 180000\n",
    "base_step = 180000 / 15\n",
    "end_article = start_article + 15 * 12000\n",
    "end_article"
   ]
  },
  {
   "cell_type": "code",
   "execution_count": null,
   "metadata": {
    "_cell_guid": "79c7e3d0-c299-4dcb-8224-4455121ee9b0",
    "_uuid": "d629ff2d2480ee46fbb7e2d37f6b5fab8052498a"
   },
   "outputs": [],
   "source": [
    "def pre_read(fold_dir):\n",
    "        args = {}\n",
    "        f = open(fold_dir + 'train_article_embedding_data.pickle','rb')\n",
    "        args['train_article_embedding_data'] = pickle.load(f)\n",
    "        f.close()\n",
    "        f = open(fold_dir + 'train_title_embedding_data.pickle','rb')\n",
    "        args['train_title_embedding_data'] = pickle.load(f)\n",
    "        f.close()\n",
    "        f = open(fold_dir + 'train_label_list_data.pickle','rb')\n",
    "        args['train_label_list_data'] = pickle.load(f)\n",
    "        f.close()\n",
    "        f = open(fold_dir + 'val_article_embedding_data.pickle','rb')\n",
    "        args['val_article_embedding_data'] = pickle.load(f)\n",
    "        f.close()\n",
    "        f = open(fold_dir + 'val_title_embedding_data.pickle','rb')\n",
    "        args['val_title_embedding_data'] = pickle.load(f)\n",
    "        f.close()\n",
    "        f = open(fold_dir + 'val_label_list_data.pickle','rb')\n",
    "        args['val_label_list_data'] = pickle.load(f)\n",
    "        f.close()\n",
    "        f = open(fold_dir + 'label_vocab.pickle','rb')\n",
    "        args['label_vocab'] = pickle.load(f)\n",
    "        f.close()\n",
    "        args['article_dim'] = len(args['train_article_embedding_data'][0])\n",
    "        args['title_dim'] = len(args['train_title_embedding_data'][0])\n",
    "        args['label_dim'] = len(args['label_vocab'])\n",
    "        args['train_size'] = len(args['train_article_embedding_data'])\n",
    "        args['embed_dim'] = len(args['train_article_embedding_data'][0][0])\n",
    "        return args\n",
    "\n",
    "args = pre_read('../input/train-validation-data-split/')"
   ]
  },
  {
   "cell_type": "code",
   "execution_count": null,
   "metadata": {
    "_uuid": "e1dd581ae8373acbdf83304c944effabea5beadb"
   },
   "outputs": [],
   "source": [
    "class DatasetFromFile(data.Dataset):\n",
    "    def __init__(self, args, input_transform=None, target_transform=True, start_step = 0, end_step = 0):\n",
    "        super(DatasetFromFile, self).__init__()\n",
    "        self.train_article_embedding_data = args['train_article_embedding_data'][start_step:end_step]\n",
    "        self.train_title_embedding_data = args['train_title_embedding_data'][start_step:end_step]\n",
    "        self.train_label_list_data = args['train_label_list_data'][start_step:end_step]\n",
    "        self.label_vocab = args['label_vocab']\n",
    "        self.input_transform = input_transform\n",
    "        self.target_transform = target_transform\n",
    "\n",
    "    def one_hot_label_embedding(self, label_list, label_vocab):\n",
    "        tmp = label_list.copy()\n",
    "        l = [0] * len(label_vocab)\n",
    "        for j in tmp:\n",
    "            if j in label_vocab:\n",
    "                l[label_vocab[j]] = 1\n",
    "        return l\n",
    "\n",
    "    # 在__getitem__中加载图片，并且将传入的transformation操作运用到\n",
    "    # 加载的图片中。 `input = self.input_transforms(input)`\n",
    "    # 这里的 self.input_transforms就是传入的\"类的实例\"，由于类是callable的\n",
    "    # 所以可以 \"类的实例（参数）\"这样调用。在上一篇博客说到了这个。\n",
    "    def __getitem__(self, index):\n",
    "        article_input = self.train_article_embedding_data[index]\n",
    "        title_input = self.train_title_embedding_data[index]\n",
    "        target_tags = self.train_label_list_data[index]\n",
    "        if self.input_transform:\n",
    "            input = [torch.FloatTensor(article_input),torch.FloatTensor(title_input)]\n",
    "        else:\n",
    "            input = torch.FloatTensor(article_input)\n",
    "        if self.target_transform:\n",
    "            target_tags = self.one_hot_label_embedding(target_tags, self.label_vocab)\n",
    "        \n",
    "        label = torch.FloatTensor(target_tags)\n",
    "        return input, label\n",
    "\n",
    "    def __len__(self):\n",
    "        return len(self.train_title_embedding_data)\n",
    "\n",
    "class ValidationFromFile(data.Dataset):\n",
    "    def __init__(self, args, input_transform=None, target_transform=True):\n",
    "        super(ValidationFromFile, self).__init__()\n",
    "        self.val_article_embedding_data = args['val_article_embedding_data']\n",
    "        self.val_title_embedding_data = args['val_title_embedding_data']\n",
    "        self.val_label_list_data = args['val_label_list_data']\n",
    "        self.label_vocab = args['label_vocab']\n",
    "        self.input_transform = input_transform\n",
    "        self.target_transform = target_transform\n",
    "\n",
    "    def one_hot_label_embedding(self, label_list, label_vocab):\n",
    "        tmp = label_list.copy()\n",
    "        l = [0] * len(label_vocab)\n",
    "        for j in tmp:\n",
    "            if j in label_vocab:\n",
    "                l[label_vocab[j]] = 1\n",
    "        return l\n",
    "\n",
    "    def __getitem__(self, index):\n",
    "        article_input = self.val_article_embedding_data[index]\n",
    "        title_input = self.val_title_embedding_data[index]\n",
    "        target_tags = self.val_label_list_data[index]\n",
    "        if self.input_transform:\n",
    "            input = [torch.FloatTensor(article_input),torch.FloatTensor(title_input)]\n",
    "        else:\n",
    "            input = torch.FloatTensor(article_input)\n",
    "        if self.target_transform:\n",
    "            target_tags = self.one_hot_label_embedding(target_tags, self.label_vocab)\n",
    "        label = torch.FloatTensor(target_tags)\n",
    "        return input, label\n",
    "\n",
    "    def __len__(self):\n",
    "        return len(self.val_article_embedding_data)"
   ]
  },
  {
   "cell_type": "code",
   "execution_count": null,
   "metadata": {
    "_uuid": "10b3d7870533408c4cf556f30683125c1f4dcdb8"
   },
   "outputs": [],
   "source": [
    "class TimeDistributed(nn.Module):\n",
    "    def __init__(self, module):\n",
    "        super(TimeDistributed, self).__init__()\n",
    "        self.module = module\n",
    "\n",
    "    def forward(self, x):\n",
    "        if len(x.size()) <= 2:\n",
    "            return self.module(x)\n",
    "        n, t = x.size(0), x.size(1)\n",
    "        # merge batch and seq dimensions\n",
    "        x_reshape = x.contiguous().view(t * n, x.size(2))\n",
    "        y = self.module(x_reshape)\n",
    "        # we have to reshape Y\n",
    "        y = y.contiguous().view(n, t, y.size()[1])\n",
    "        return y\n",
    "\n",
    "class K_MaxPooling(nn.Module):\n",
    "    def __init__(self, k):\n",
    "        super(K_MaxPooling, self).__init__()\n",
    "        self.k = k\n",
    "        \n",
    "    def forward(self, x, dim):\n",
    "        index = x.topk(self.k, dim=dim)[1].sort(dim=dim)[0]\n",
    "        return x.gather(dim, index)\n",
    "\n",
    "class textCNN(nn.Module):\n",
    "    def __init__(self,args):\n",
    "        super(textCNN, self).__init__()\n",
    "        article_dim = args['article_dim'] #500\n",
    "        title_dim = args['title_dim'] #15\n",
    "        label_dim = args['label_dim'] # 36321\n",
    "        train_size = args['train_size']\n",
    "        embed_dim = args['embed_dim'] # 300\n",
    "        # self.embeding = nn.Embedding(vocb_size, dim,_weight=embedding_matrix)\n",
    "\n",
    "        D = embed_dim\n",
    "        C = label_dim\n",
    "        Ci = 1\n",
    "        Co = 300#opt['kernel_num']\n",
    "        #Ks = opt['kernel_sizes']\n",
    "        Ks1 = [1,2,3,4,5]\n",
    "        Ks2 = [3,4,5,6,7]\n",
    "        \n",
    "        self.tdfc1 = nn.Linear(D, 300)#512)\n",
    "        self.td1 = TimeDistributed(self.tdfc1)\n",
    "        self.tdbn1 = nn.BatchNorm2d(1)\n",
    "        \n",
    "        self.tdfc2 = nn.Linear(D, 300)#512)\n",
    "        self.td2 = TimeDistributed(self.tdfc2)\n",
    "        self.tdbn2 = nn.BatchNorm2d(1)\n",
    "\n",
    "        self.convs1 = nn.ModuleList([nn.Conv2d(Ci, Co, (K, 290)) for K in Ks1])\n",
    "        self.convbn1 = nn.ModuleList([nn.BatchNorm2d(Co) for i in range(len(Ks1))])\n",
    "        self.convs2 = nn.ModuleList([nn.Conv2d(Ci, Co, (K, 290)) for K in Ks2])\n",
    "        self.convbn2 = nn.ModuleList([nn.BatchNorm2d(Co) for i in range(len(Ks2))])\n",
    "        \n",
    "        self.kmax_pooling = K_MaxPooling(5)\n",
    "    \n",
    "        self.fc1 = nn.Linear(33000, C)#4096)\n",
    "        # self.fc1 = nn.Linear(115200, C)#4096)\n",
    "        self.bn1 = nn.BatchNorm1d(C)#4096)\n",
    "        self.fc2 = nn.Linear(C, C)#4096, C)\n",
    "\n",
    "    def forward(self, x, y):\n",
    "        batch_size = x.size(0)\n",
    "        x = x.detach()\n",
    "        x = F.relu(self.tdbn1(self.td1(x).unsqueeze(1)))\n",
    "        y = y.detach()\n",
    "        y = F.relu(self.tdbn2(self.td2(y).unsqueeze(1)))\n",
    "        x = [F.relu(self.convbn1[i](conv(x))).squeeze(3) for i, conv in enumerate(self.convs1)]\n",
    "        #print(x)\n",
    "        # x = [F.max_pool1d(i, i.size(2)).squeeze(2) for i in x]\n",
    "        x = [self.kmax_pooling(i, 2).mean(2).squeeze(1) for i in x]\n",
    "        x = torch.cat(x, 1)\n",
    "        \n",
    "        y = [F.relu(self.convbn2[i](conv(y))).squeeze(3) for i, conv in enumerate(self.convs2)]\n",
    "        # y = [F.max_pool1d(i, i.size(2)).squeeze(2) for i in y]\n",
    "        y = [self.kmax_pooling(i, 2).mean(2).squeeze(1) for i in y]\n",
    "        \n",
    "        y = torch.cat(y, 1)\n",
    "        x = torch.cat((x, y), 1)\n",
    "        x = x.view(batch_size, -1)\n",
    "        x = F.relu(self.bn1(self.fc1(x)))\n",
    "        logit = self.fc2(x)\n",
    "        return logit"
   ]
  },
  {
   "cell_type": "code",
   "execution_count": null,
   "metadata": {
    "_uuid": "55f32a4beea5f45186c73c65297f3472569333a9"
   },
   "outputs": [],
   "source": [
    "def eval(model, label_dim, val_dataset):\n",
    "    model.eval()\n",
    "    predict_label_list, truth_label_list = [], []\n",
    "    for step, data in enumerate(val_dataset):\n",
    "        train_x, label = data[0], data[1]\n",
    "        article_x, title_x = train_x[0], train_x[1]\n",
    "        article_x, title_x, label = Variable(article_x), Variable(title_x), Variable(label)\n",
    "        truth_label_list.extend([list(i) for i in np.array(label.data.numpy())])\n",
    "        batch_size = article_x.size(0)\n",
    "        article_x, title_x, label = article_x.cuda(), title_x.cuda(), label.cuda()\n",
    "        output = model(article_x, title_x)\n",
    "        predict_label_list.extend([list(i) for i in np.array(output.cpu().data.numpy())])\n",
    "    model.train()\n",
    "    truth_label_list = np.array(truth_label_list)\n",
    "    predict_label_list = np.array(predict_label_list)\n",
    "    truth_y = truth_label_list\n",
    "    predict_y = []\n",
    "    for observation in predict_label_list:\n",
    "        labeled = observation > 0\n",
    "        sum_labeled = sum(labeled)\n",
    "        if 0 < sum_labeled <= 5:\n",
    "            tmp = list(labeled)\n",
    "        elif sum_labeled > 5:\n",
    "            tmp = [0]*label_dim\n",
    "            for i in np.argpartition(observation, -5)[-5:]:\n",
    "                tmp[i] = 1\n",
    "        elif sum_labeled == 0:\n",
    "            tmp = [0]*label_dim\n",
    "            for i in np.argpartition(observation, -3)[-3:]:\n",
    "                tmp[i] = 1\n",
    "        predict_y.append(tmp)\n",
    "    predict_y = np.array(predict_y)\n",
    "    F1_score, precision_score, recall_score = [], [], []\n",
    "    for i in range(len(truth_y)):\n",
    "        pre = np.array(predict_y[i])\n",
    "        truth = np.array(truth_y[i])\n",
    "        r_n, t_n = sum(pre), sum(truth)\n",
    "        if t_n == 0:\n",
    "            continue\n",
    "        tp = (pre == truth)\n",
    "        for j in range(len(tp)):\n",
    "            if tp[j] == 1 and truth[j] == 0:\n",
    "                tp[j] = 0\n",
    "        tp = sum(tp)\n",
    "        precision = 1.0 * tp / r_n if r_n != 0 else 0\n",
    "        recall = 1.0 * tp / t_n\n",
    "        F1 = 2.0 * precision * recall / (precision + recall) if precision + recall != 0 else 0\n",
    "        # r(n) 并 t(u) - tp\n",
    "        # r(n) tp + fp predict 个数\n",
    "        # t(n) tp + fn truth tags 个数\n",
    "        F1_score.append(F1)\n",
    "        precision_score.append(precision)\n",
    "        recall_score.append(recall)\n",
    "    F1_score, precision_score, recall_score = np.array(F1_score), np.array(precision_score), np.array(recall_score)\n",
    "    F1_overall, precision_overall, recall_overall = F1_score.mean(), precision_score.mean(), recall_score.mean()\n",
    "    return F1_overall, precision_overall, recall_overall, F1_score, precision_score, recall_score"
   ]
  },
  {
   "cell_type": "code",
   "execution_count": null,
   "metadata": {
    "_uuid": "a6ebc42c5c0883811706fcf7c6e504bbd7fe7146"
   },
   "outputs": [],
   "source": [
    "model = torch.load('../input/train-and-train-8/TextCNN_model.pkl',map_location=lambda storage, loc: storage)"
   ]
  },
  {
   "cell_type": "code",
   "execution_count": null,
   "metadata": {
    "_uuid": "3c261317389b4328021d5f369d31ba6ad518eb27"
   },
   "outputs": [],
   "source": [
    "tag_dataset = torch.utils.data.DataLoader(\n",
    "         DatasetFromFile(args, input_transform=True, target_transform=True, start_step = start_article, end_step = end_article), \n",
    "         batch_size= 15, shuffle= False)\n",
    "val_dataset = torch.utils.data.DataLoader(\n",
    "         ValidationFromFile(args, input_transform=True, target_transform=True), \n",
    "         batch_size= 15, shuffle= False)\n",
    "# model = textCNN(args)\n",
    "LR = 0.001\n",
    "optimizer = torch.optim.Adam(model.parameters(), lr=LR)\n",
    "#损失函数\n",
    "loss_function = nn.MultiLabelSoftMarginLoss()"
   ]
  },
  {
   "cell_type": "code",
   "execution_count": null,
   "metadata": {
    "_uuid": "b344f847857338db2b2eaf952254e12fda540b5f"
   },
   "outputs": [],
   "source": [
    "# len(tag_dataset)\n",
    "len(args['train_article_embedding_data'])"
   ]
  },
  {
   "cell_type": "code",
   "execution_count": null,
   "metadata": {
    "_uuid": "6e7ad9d258b3539a96889d8655c906894a118833"
   },
   "outputs": [],
   "source": [
    "model.cuda()"
   ]
  },
  {
   "cell_type": "code",
   "execution_count": null,
   "metadata": {
    "_uuid": "a58099fc6e08ac94a40017106214f981e063e6e6"
   },
   "outputs": [],
   "source": [
    "from datetime import datetime \n",
    "a=datetime.now()\n",
    "for epoch in range(1):   # 训练所有!整套!数据 3 次\n",
    "    for step, data in enumerate(tag_dataset):\n",
    "        if step % 500 == 0:\n",
    "            logging.info('Training step {} {} finished!'.format(epoch+base_epoch, step+base_step))\n",
    "        train_x, label = data[0], data[1]\n",
    "        article_x, title_x = train_x[0], train_x[1]\n",
    "        article_x, title_x, label = Variable(article_x), Variable(title_x), Variable(label)\n",
    "        article_x, title_x, label = article_x.cuda(), title_x.cuda(), label.cuda()\n",
    "        output = model(article_x, title_x)\n",
    "        loss = loss_function(output, label)\n",
    "        optimizer.zero_grad()\n",
    "        loss.backward()\n",
    "        optimizer.step()\n",
    "    logging.info('Training epoch {} finished!'.format(epoch+base_epoch))\n",
    "    F1_overall, precision_overall, recall_overall, _, _, _ = eval(model, args['label_dim'], val_dataset)\n",
    "    print('Epoch[{}] - score: {:.6f} (precision: {:.4f}, recall: {:.4f})'.format( \\\n",
    "                            epoch, F1_overall, precision_overall, recall_overall))\n",
    "b=datetime.now() "
   ]
  },
  {
   "cell_type": "code",
   "execution_count": null,
   "metadata": {
    "_uuid": "cbf32e1ca2a0c9d737ace91e4ffbd6a1b7e51029"
   },
   "outputs": [],
   "source": [
    "(b-a).seconds"
   ]
  },
  {
   "cell_type": "code",
   "execution_count": null,
   "metadata": {
    "_uuid": "638f4f4c7cab0cf3a6b61ddf1e93143869c9476b"
   },
   "outputs": [],
   "source": [
    "torch.save(model.cpu(), 'TextCNN_model.pkl')  # 保存整个网络\n",
    "# torch.save(model.state_dict(), 'TextCNN_model_para.pkl')   # 只保存网络中的参数 (速度快, 占内存少)"
   ]
  },
  {
   "cell_type": "code",
   "execution_count": null,
   "metadata": {
    "_uuid": "512f9092391652a16446010ac95f1a0073cd3990"
   },
   "outputs": [],
   "source": [
    "torch.save(model.cpu().state_dict(), 'TextCNN_model_para.pkl')"
   ]
  },
  {
   "cell_type": "code",
   "execution_count": null,
   "metadata": {
    "_uuid": "f5a3e9bdb798774ef3491b39b5c6b6e299c2b2a0"
   },
   "outputs": [],
   "source": [
    "# TextCNN_model = torch.load('TextCNN_model.pkl',map_location=lambda storage, loc: storage)\n",
    "# TextCNN_model_para = textCNN(args)\n",
    "# TextCNN_model_para.load_state_dict(torch.load('TextCNN_model_para.pkl',map_location=lambda storage, loc: storage))"
   ]
  }
 ],
 "metadata": {
  "kernelspec": {
   "display_name": "Python 3",
   "language": "python",
   "name": "python3"
  },
  "language_info": {
   "codemirror_mode": {
    "name": "ipython",
    "version": 3
   },
   "file_extension": ".py",
   "mimetype": "text/x-python",
   "name": "python",
   "nbconvert_exporter": "python",
   "pygments_lexer": "ipython3",
   "version": "3.6.5"
  }
 },
 "nbformat": 4,
 "nbformat_minor": 1
}
