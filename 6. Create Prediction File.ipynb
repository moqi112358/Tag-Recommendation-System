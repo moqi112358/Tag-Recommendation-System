{
  "cells": [
    {
      "metadata": {
        "_uuid": "8f2839f25d086af736a60e9eeb907d3b93b6e0e5",
        "_cell_guid": "b1076dfc-b9ad-4769-8c92-a6c4dae69d19",
        "trusted": true
      },
      "cell_type": "code",
      "source": "# This Python 3 environment comes with many helpful analytics libraries installed\n# It is defined by the kaggle/python docker image: https://github.com/kaggle/docker-python\n# For example, here's several helpful packages to load in \n\nimport numpy as np # linear algebra\nimport pandas as pd # data processing, CSV file I/O (e.g. pd.read_csv)\n\n# Input data files are available in the \"../input/\" directory.\n# For example, running this (by clicking run or pressing Shift+Enter) will list the files in the input directory\n\nimport os\nprint(os.listdir(\"../input\"))\n\n# Any results you write to the current directory are saved as output.",
      "execution_count": null,
      "outputs": []
    },
    {
      "metadata": {
        "trusted": true,
        "_uuid": "70a563a403e4a44b7ec1cd43f68793c8d373faca"
      },
      "cell_type": "code",
      "source": "import numpy as np # linear algebra\nimport os\nprint(os.listdir(\"../input\"))\nimport pickle\nimport logging\nlogging.basicConfig(format='%(asctime)s : %(levelname)s : %(message)s',level=logging.INFO)\nargs = {}\ndef test_read_input(fold_dir):\n    raw_data = pd.read_csv(fold_dir+'test.csv')\n    logging.info(\"reading raw data...this may take a while\")\n    l = len(raw_data)\n    id_list = []\n    for i in range(l):\n        id = raw_data['id'].iloc[i]\n        if (i % 10000 == 0):\n            logging.info(\"read {0} reviews\".format(i))\n        id_list.append(id)\n    return id_list\n\ntest_id_list = test_read_input('../input/hackerearth-deep-learning-challenge-4/')\n\ndef read_vocab(fold_dir,args):        \n    f = open(fold_dir + 'label_vocab.pickle','rb')\n    args['label_vocab'] = pickle.load(f)\n    f.close()\n    args['label_dim'] = len(args['label_vocab'])\n    f.close()\n    return args\n\nargs = read_vocab('../input/tag-recommendation-system-list/', args)",
      "execution_count": null,
      "outputs": []
    },
    {
      "metadata": {
        "_cell_guid": "79c7e3d0-c299-4dcb-8224-4455121ee9b0",
        "_uuid": "d629ff2d2480ee46fbb7e2d37f6b5fab8052498a",
        "trusted": true
      },
      "cell_type": "code",
      "source": "#f = open('../input/fork-of-prediction-for-test-data-1/pred_y1.pickle','rb')\n#pred_y = pickle.load(f)\n#f.close()\nresult = []\nargs['id_to_label'] = {args['label_vocab'][i] : i for i in args['label_vocab']}\noutput = open('predict.csv','w')\noutput.write('id,tags\\n')\nid_i = 0\nfor i in range(1,10):\n    f = open('../input/fork-of-prediction-for-test-data-'+ str(i) +'/pred_y' + str(i) + '_all.pickle','rb')\n    pred_y = pickle.load(f)\n    print(len(pred_y))\n    f.close()\n    for line_id in range(len(pred_y)):\n        if line_id % 5000 == 0:\n            print(line_id,'finish\\n')\n        y = pred_y[line_id]\n        label_y = []\n        for i in range(len(y)):\n            if y[i] == 1:\n                label_y.append(args['id_to_label'][i])\n        label_str='|'.join(label_y)\n        output.write('%s,%s\\n' % (test_id_list[id_i], label_str))\n        id_i += 1\n    del pred_y\noutput.close()",
      "execution_count": null,
      "outputs": []
    },
    {
      "metadata": {
        "trusted": true,
        "_uuid": "84626fb55c5356b45a58015e64bffacdfde9ccb5"
      },
      "cell_type": "code",
      "source": "'''\ndef create_predict_file(args,test_id_list,result):\n    # args['id_to_label'] = {args['label_vocab'][i] : i for i in args['label_vocab']}\n    f = open('predict.csv','w')\n    f.write('id,tags\\n')\n    for line_id in range(len(result)):\n        f.write('%s,%s\\n' % (test_id_list[line_id], result[line_id]))\n    f.close()\n    return\n\ncreate_predict_file(args,test_id_list,result)\n'''\n",
      "execution_count": null,
      "outputs": []
    }
  ],
  "metadata": {
    "kernelspec": {
      "display_name": "Python 3",
      "language": "python",
      "name": "python3"
    },
    "language_info": {
      "name": "python",
      "version": "3.6.6",
      "mimetype": "text/x-python",
      "codemirror_mode": {
        "name": "ipython",
        "version": 3
      },
      "pygments_lexer": "ipython3",
      "nbconvert_exporter": "python",
      "file_extension": ".py"
    }
  },
  "nbformat": 4,
  "nbformat_minor": 1
}